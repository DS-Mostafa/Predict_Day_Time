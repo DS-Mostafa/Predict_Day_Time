{
  "nbformat": 4,
  "nbformat_minor": 0,
  "metadata": {
    "colab": {
      "provenance": [],
      "gpuType": "T4"
    },
    "kernelspec": {
      "name": "python3",
      "display_name": "Python 3"
    },
    "language_info": {
      "name": "python"
    },
    "accelerator": "GPU",
    "gpuClass": "standard"
  },
  "cells": [
    {
      "cell_type": "markdown",
      "source": [
        "## Importing Essential Modules"
      ],
      "metadata": {
        "id": "cf0fWljieFA4"
      }
    },
    {
      "cell_type": "code",
      "execution_count": null,
      "metadata": {
        "id": "w5OlkuJsHjOK"
      },
      "outputs": [],
      "source": [
        "import os\n",
        "import shutil\n",
        "import random\n",
        "from tensorflow.keras.applications import Xception\n",
        "from tensorflow.keras.applications.xception import preprocess_input\n",
        "from tensorflow.keras.layers import Conv2D, MaxPool2D, BatchNormalization,Dense, Flatten, Dropout\n",
        "from tensorflow.keras.models import Model, Sequential\n",
        "import numpy as np\n",
        "import matplotlib.pyplot as plt\n",
        "from tensorflow.keras.preprocessing import image\n",
        "from tensorflow.keras.preprocessing.image import ImageDataGenerator\n",
        "from google.colab import drive"
      ]
    },
    {
      "cell_type": "code",
      "source": [
        "drive.mount('/content/drive')"
      ],
      "metadata": {
        "colab": {
          "base_uri": "https://localhost:8080/"
        },
        "id": "iGBOcSdlH8bo",
        "outputId": "efd14b14-13fb-403d-d71e-058198548136"
      },
      "execution_count": null,
      "outputs": [
        {
          "output_type": "stream",
          "name": "stdout",
          "text": [
            "Mounted at /content/drive\n"
          ]
        }
      ]
    },
    {
      "cell_type": "markdown",
      "source": [
        "## Loading Data"
      ],
      "metadata": {
        "id": "CnunnIhdd--e"
      }
    },
    {
      "cell_type": "code",
      "source": [
        "initial_path = '/content/drive/MyDrive/photos'\n",
        "\n",
        "# Define the new top-level directory names\n",
        "directories = ['train', 'val', 'test']\n",
        "\n",
        "# Define the subdirectory names for each top-level directory\n",
        "subdirectories = ['daytime','nighttime','sunrise']\n",
        "\n",
        "# Define the proportions for train, validation, and test sets\n",
        "props = [0.9, 0.05, 0.05]\n",
        "\n",
        "# Loop over the top-level directories and subdirectories, and create the corresponding directories\n",
        "for directory in directories:\n",
        "    for subdirectory in subdirectories:\n",
        "        path = os.path.join(initial_path, subdirectory)\n",
        "        files = os.listdir(path)\n",
        "        random.shuffle(files)\n",
        "        total = len(files)\n",
        "        train_end = int(total * props[0])\n",
        "        val_end = train_end + int(total * props[1])\n",
        "        if directory == 'train':\n",
        "            new_files = files[:train_end]\n",
        "        elif directory == 'val':\n",
        "            new_files = files[train_end:val_end]\n",
        "        else:\n",
        "            new_files = files[val_end:]\n",
        "        new_path = os.path.join(directory, subdirectory)\n",
        "        os.makedirs(new_path, exist_ok=True)\n",
        "        for file in new_files:\n",
        "            old_file_path = os.path.join(path, file)\n",
        "            new_file_path = os.path.join(new_path, file)\n",
        "            shutil.copy(old_file_path, new_file_path)"
      ],
      "metadata": {
        "id": "mTJKyYTvH-mn"
      },
      "execution_count": null,
      "outputs": []
    },
    {
      "cell_type": "markdown",
      "source": [
        "## Preparing Data For Training"
      ],
      "metadata": {
        "id": "n5ELQwtEd1ts"
      }
    },
    {
      "cell_type": "code",
      "source": [
        "# Define the directories for the train, validation, and test sets\n",
        "train_dir = 'train'\n",
        "val_dir = 'val'\n",
        "\n",
        "# Define the image dimensions and batch size\n",
        "img_height = 224\n",
        "img_width = 224\n",
        "batch_size = 32\n",
        "# Define the data generators for the train, validation, and test sets\n",
        "train_datagen = ImageDataGenerator(preprocessing_function=preprocess_input, \n",
        "                                   rotation_range=20,\n",
        "                                   width_shift_range=0.2,\n",
        "                                   height_shift_range=0.2,\n",
        "                                   shear_range=0.2,\n",
        "                                   zoom_range=0.2,\n",
        "                                   horizontal_flip=True)\n",
        "train_generator = train_datagen.flow_from_directory(train_dir,\n",
        "                                                    target_size=(img_height, img_width),\n",
        "                                                    batch_size=batch_size,\n",
        "                                                    class_mode='categorical',\n",
        "                                                    color_mode='rgb')\n",
        "\n",
        "val_datagen = ImageDataGenerator(preprocessing_function=preprocess_input)\n",
        "val_generator = val_datagen.flow_from_directory(val_dir,\n",
        "                                                target_size=(img_height, img_width),\n",
        "                                                batch_size=batch_size,\n",
        "                                                class_mode='categorical',\n",
        "                                                color_mode='rgb')"
      ],
      "metadata": {
        "colab": {
          "base_uri": "https://localhost:8080/"
        },
        "id": "sPiR0nSoIL9A",
        "outputId": "181521db-2b18-4453-9a96-ef51fed9be86"
      },
      "execution_count": null,
      "outputs": [
        {
          "output_type": "stream",
          "name": "stdout",
          "text": [
            "Found 2403 images belonging to 3 classes.\n",
            "Found 133 images belonging to 3 classes.\n"
          ]
        }
      ]
    },
    {
      "cell_type": "markdown",
      "source": [
        "## Building Model Architecture"
      ],
      "metadata": {
        "id": "UE50w72Idqah"
      }
    },
    {
      "cell_type": "code",
      "source": [
        "# Defining the architecture\n",
        "model = Sequential()\n",
        "\n",
        "model.add(Conv2D(64,(3,3),padding = \"same\", activation = \"relu\", input_shape = (224,224,3)))\n",
        "model.add(BatchNormalization())\n",
        "model.add(Conv2D(64,(3,3), activation = \"relu\",padding = \"same\"))\n",
        "model.add(BatchNormalization())\n",
        "model.add(Conv2D(64,(3,3), activation = \"relu\",padding = \"same\"))\n",
        "model.add(MaxPool2D(2,2))\n",
        "\n",
        "model.add(Conv2D(128,(3,3), activation = \"relu\",padding = \"same\"))\n",
        "model.add(BatchNormalization())\n",
        "model.add(Conv2D(128,(3,3), activation = \"relu\",padding = \"same\"))\n",
        "model.add(BatchNormalization())\n",
        "model.add(Conv2D(128,(3,3), activation = \"relu\",padding = \"same\"))\n",
        "model.add(MaxPool2D(2,2))\n",
        "    \n",
        "model.add(Conv2D(256,(3,3), activation = \"relu\",padding = \"same\"))\n",
        "model.add(BatchNormalization())\n",
        "model.add(Conv2D(256,(3,3), activation = \"relu\",padding = \"same\"))\n",
        "model.add(BatchNormalization())\n",
        "model.add(Conv2D(256,(3,3), activation = \"relu\",padding = \"same\"))\n",
        "model.add(MaxPool2D(2,2))\n",
        "  \n",
        "model.add(Flatten())\n",
        "    \n",
        "model.add(Dense(256, activation='relu'))\n",
        "model.add(BatchNormalization())\n",
        "model.add(Dropout(0.5))\n",
        "model.add(Dense(128,activation='relu'))\n",
        "\n",
        "model.add(Dense(3, activation='softmax'))\n",
        "    \n",
        "\n",
        "# Compiling the model\n",
        "model.compile(optimizer='adam', loss='categorical_crossentropy', metrics=['accuracy'])\n"
      ],
      "metadata": {
        "id": "cW5VwxR0IcOw"
      },
      "execution_count": null,
      "outputs": []
    },
    {
      "cell_type": "markdown",
      "source": [
        "## Model Training"
      ],
      "metadata": {
        "id": "5c70Q4M2dd8g"
      }
    },
    {
      "cell_type": "code",
      "source": [
        "history = model.fit(\n",
        "    train_generator,\n",
        "    steps_per_epoch=train_generator.samples // batch_size,\n",
        "    epochs=10,\n",
        "    validation_data=val_generator,\n",
        "    validation_steps=val_generator.samples // batch_size\n",
        ")"
      ],
      "metadata": {
        "colab": {
          "base_uri": "https://localhost:8080/"
        },
        "id": "N0SZAWQfIgCO",
        "outputId": "814d920f-4a51-48b5-cda1-9d8c738374d8"
      },
      "execution_count": null,
      "outputs": [
        {
          "output_type": "stream",
          "name": "stdout",
          "text": [
            "Epoch 1/10\n",
            "75/75 [==============================] - 47s 619ms/step - loss: 0.3726 - accuracy: 0.8722 - val_loss: 0.3214 - val_accuracy: 0.8750\n",
            "Epoch 2/10\n",
            "75/75 [==============================] - 46s 612ms/step - loss: 0.3728 - accuracy: 0.8697 - val_loss: 0.3785 - val_accuracy: 0.8438\n",
            "Epoch 3/10\n",
            "75/75 [==============================] - 46s 608ms/step - loss: 0.3486 - accuracy: 0.8756 - val_loss: 0.4324 - val_accuracy: 0.8359\n",
            "Epoch 4/10\n",
            "75/75 [==============================] - 46s 608ms/step - loss: 0.3321 - accuracy: 0.8857 - val_loss: 0.3012 - val_accuracy: 0.9141\n",
            "Epoch 5/10\n",
            "75/75 [==============================] - 46s 604ms/step - loss: 0.3416 - accuracy: 0.8811 - val_loss: 0.2891 - val_accuracy: 0.9062\n",
            "Epoch 6/10\n",
            "75/75 [==============================] - 45s 597ms/step - loss: 0.3335 - accuracy: 0.8815 - val_loss: 0.2901 - val_accuracy: 0.8984\n",
            "Epoch 7/10\n",
            "75/75 [==============================] - 46s 604ms/step - loss: 0.3245 - accuracy: 0.8794 - val_loss: 0.2404 - val_accuracy: 0.8984\n",
            "Epoch 8/10\n",
            "75/75 [==============================] - 46s 606ms/step - loss: 0.3815 - accuracy: 0.8646 - val_loss: 0.4017 - val_accuracy: 0.8438\n",
            "Epoch 9/10\n",
            "75/75 [==============================] - 46s 610ms/step - loss: 0.3592 - accuracy: 0.8709 - val_loss: 0.2628 - val_accuracy: 0.9062\n",
            "Epoch 10/10\n",
            "75/75 [==============================] - 46s 612ms/step - loss: 0.3450 - accuracy: 0.8768 - val_loss: 0.3197 - val_accuracy: 0.9062\n"
          ]
        }
      ]
    },
    {
      "cell_type": "code",
      "source": [
        "model.save('final_model.h5')"
      ],
      "metadata": {
        "id": "PxpYV0gaOZDL"
      },
      "execution_count": null,
      "outputs": []
    },
    {
      "cell_type": "markdown",
      "source": [
        "**Test generator and Making predictions**"
      ],
      "metadata": {
        "id": "fClWnj8UdR36"
      }
    },
    {
      "cell_type": "code",
      "source": [
        "# Define a dictionary to convert label indices to class names\n",
        "class_names = train_generator.class_indices\n",
        "class_names = {v: k for k, v in class_names.items()}\n",
        "\n",
        "# Use the trained model to predict labels for the test images\n",
        "test_dir = \"/content/test\"\n",
        "test_datagen = ImageDataGenerator(preprocessing_function=preprocess_input)\n",
        "test_generator = test_datagen.flow_from_directory(\n",
        "    test_dir,\n",
        "    target_size=(img_height, img_width),\n",
        "    batch_size=1,  # Set batch size to 1 to get individual images\n",
        "    class_mode='categorical',\n",
        "    color_mode='rgb',\n",
        "    shuffle=False\n",
        ")\n",
        "predictions = model.predict(test_generator)\n",
        "\n",
        "# Convert the predicted probabilities to class labels\n",
        "predicted_labels = np.argmax(predictions, axis=1)\n",
        "predicted_labels = [class_names[label] for label in predicted_labels]\n",
        "\n",
        "# Get the true labels of the test images\n",
        "true_labels = test_generator.classes\n",
        "true_labels = [class_names[label] for label in true_labels]"
      ],
      "metadata": {
        "colab": {
          "base_uri": "https://localhost:8080/"
        },
        "id": "oV2tGMAvIudn",
        "outputId": "8f0a38d6-a5d8-4cf5-e26f-503c18fa7782"
      },
      "execution_count": null,
      "outputs": [
        {
          "output_type": "stream",
          "name": "stdout",
          "text": [
            "Found 135 images belonging to 3 classes.\n",
            "135/135 [==============================] - 1s 7ms/step\n"
          ]
        }
      ]
    },
    {
      "cell_type": "code",
      "source": [],
      "metadata": {
        "id": "eID6J23JPcW8"
      },
      "execution_count": null,
      "outputs": []
    },
    {
      "cell_type": "markdown",
      "source": [
        "# results\n"
      ],
      "metadata": {
        "id": "an7YqruePjMi"
      }
    },
    {
      "cell_type": "code",
      "source": [
        "y_pred = model.predict(test_generator)\n",
        "y_pred_classes = np.argmax(y_pred, axis=1)\n"
      ],
      "metadata": {
        "colab": {
          "base_uri": "https://localhost:8080/"
        },
        "id": "z4rsiHqGOMeo",
        "outputId": "aa682b38-d6dd-4bc2-9b1e-42d8970d0f72"
      },
      "execution_count": null,
      "outputs": [
        {
          "output_type": "stream",
          "name": "stdout",
          "text": [
            "135/135 [==============================] - 1s 10ms/step\n"
          ]
        }
      ]
    },
    {
      "cell_type": "code",
      "source": [
        "from sklearn.metrics import classification_report, confusion_matrix, roc_curve, auc\n",
        "import matplotlib.pyplot as plt\n"
      ],
      "metadata": {
        "id": "tVIa4cqyOuYx"
      },
      "execution_count": null,
      "outputs": []
    },
    {
      "cell_type": "markdown",
      "source": [
        "## Loss and Accuracy Score"
      ],
      "metadata": {
        "id": "Xzk_0wnCctxA"
      }
    },
    {
      "cell_type": "code",
      "source": [
        "test_loss, test_accuracy = model.evaluate_generator(test_generator)\n",
        "print('Test Loss:', test_loss)\n",
        "print('Test Accuracy:', test_accuracy)\n",
        "\n"
      ],
      "metadata": {
        "colab": {
          "base_uri": "https://localhost:8080/"
        },
        "id": "KvD8XPlzP7Qp",
        "outputId": "fe412026-d29a-40e6-eb19-af8689f1f544"
      },
      "execution_count": null,
      "outputs": [
        {
          "output_type": "stream",
          "name": "stderr",
          "text": [
            "<ipython-input-24-37553687617d>:1: UserWarning: `Model.evaluate_generator` is deprecated and will be removed in a future version. Please use `Model.evaluate`, which supports generators.\n",
            "  test_loss, test_accuracy = model.evaluate_generator(test_generator)\n"
          ]
        },
        {
          "output_type": "stream",
          "name": "stdout",
          "text": [
            "Test Loss: 0.33396071195602417\n",
            "Test Accuracy: 0.8592592477798462\n"
          ]
        }
      ]
    },
    {
      "cell_type": "markdown",
      "source": [
        "## Classification Report"
      ],
      "metadata": {
        "id": "YeBGpTHic1OL"
      }
    },
    {
      "cell_type": "code",
      "source": [
        "class_names = list(train_generator.class_indices.keys())\n",
        "print(\"Classification Report:\")\n",
        "print(classification_report(test_generator.classes, y_pred_classes, target_names=class_names))\n"
      ],
      "metadata": {
        "colab": {
          "base_uri": "https://localhost:8080/"
        },
        "id": "36AXMcFUOhxI",
        "outputId": "f30c32d2-e003-4f36-c8d9-263e89b136c7"
      },
      "execution_count": null,
      "outputs": [
        {
          "output_type": "stream",
          "name": "stdout",
          "text": [
            "Classification Report:\n",
            "              precision    recall  f1-score   support\n",
            "\n",
            "     daytime       0.93      0.80      0.86        46\n",
            "   nighttime       0.94      0.77      0.85        39\n",
            "     sunrise       0.78      0.98      0.87        50\n",
            "\n",
            "    accuracy                           0.86       135\n",
            "   macro avg       0.88      0.85      0.86       135\n",
            "weighted avg       0.87      0.86      0.86       135\n",
            "\n"
          ]
        }
      ]
    },
    {
      "cell_type": "markdown",
      "source": [
        "## Confusion Matrix"
      ],
      "metadata": {
        "id": "Ol9umx-fc78V"
      }
    },
    {
      "cell_type": "code",
      "source": [
        "cm = confusion_matrix(test_generator.classes, y_pred_classes)\n",
        "print(\"Confusion Matrix:\")\n",
        "print(cm)\n"
      ],
      "metadata": {
        "colab": {
          "base_uri": "https://localhost:8080/"
        },
        "id": "IO5RgLqWOkqG",
        "outputId": "0c4d732b-a43e-49f7-e69b-7d3ccbeeb7d9"
      },
      "execution_count": null,
      "outputs": [
        {
          "output_type": "stream",
          "name": "stdout",
          "text": [
            "Confusion Matrix:\n",
            "[[37  2  7]\n",
            " [ 2 30  7]\n",
            " [ 1  0 49]]\n"
          ]
        }
      ]
    },
    {
      "cell_type": "markdown",
      "source": [
        "## Loss and Accuracy Plots"
      ],
      "metadata": {
        "id": "9TOh9zjndE0S"
      }
    },
    {
      "cell_type": "code",
      "source": [
        "# Plot accuracy\n",
        "plt.plot(history.history['accuracy'])\n",
        "plt.plot(history.history['val_accuracy'])\n",
        "plt.title('Model Accuracy')\n",
        "plt.xlabel('Epochs')\n",
        "plt.ylabel('Accuracy')\n",
        "plt.legend(['Train', 'Validation'], loc='upper left')\n",
        "plt.show()\n",
        "\n",
        "# Plot loss\n",
        "plt.plot(history.history['loss'])\n",
        "plt.plot(history.history['val_loss'])\n",
        "plt.title('Model Loss')\n",
        "plt.xlabel('Epochs')\n",
        "plt.ylabel('Loss')\n",
        "plt.legend(['Train', 'Validation'], loc='upper left')\n",
        "plt.show()\n"
      ],
      "metadata": {
        "colab": {
          "base_uri": "https://localhost:8080/",
          "height": 927
        },
        "id": "SbiNxrJLO1Rc",
        "outputId": "709934f8-73e1-466f-8ede-f9c3451ae39b"
      },
      "execution_count": null,
      "outputs": [
        {
          "output_type": "display_data",
          "data": {
            "text/plain": [
              "<Figure size 640x480 with 1 Axes>"
            ],
            "image/png": "[encoded data removed]"
          },
          "metadata": {}
        },
        {
          "output_type": "display_data",
          "data": {
            "text/plain": [
              "<Figure size 640x480 with 1 Axes>"
            ],
            "image/png": "[encoded data removed]"
          },
          "metadata": {}
        }
      ]
    }
  ]
}